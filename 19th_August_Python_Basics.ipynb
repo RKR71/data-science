{
 "cells": [
  {
   "cell_type": "code",
   "execution_count": 6,
   "id": "5da59358",
   "metadata": {},
   "outputs": [
    {
     "name": "stdout",
     "output_type": "stream",
     "text": [
      "Before swaping: 5 6\n",
      "After swaping: 6 5\n"
     ]
    }
   ],
   "source": [
    "# TOPIC: Python Basics Variable\n",
    "'''\n",
    "1. Declare two variables, `x` and `y`, and assign them integer values. Swap the\n",
    "   values of these variables without using any temporary variable.\n",
    "\n",
    "'''\n",
    "x = 5\n",
    "y = 6\n",
    "print(\"Before swaping:\", x, y)\n",
    "x = x+y\n",
    "y = x-y\n",
    "x = x-y\n",
    "print(\"After swaping:\", x, y)"
   ]
  },
  {
   "cell_type": "code",
   "execution_count": 17,
   "id": "5c57f1af",
   "metadata": {},
   "outputs": [
    {
     "name": "stdout",
     "output_type": "stream",
     "text": [
      " ********Program to calculate area of rectangle*********\n",
      "Enter the length of rectangle: \n",
      "2.5\n",
      "Enter the width of rectangle: \n",
      "3.5\n",
      "Area of the rectangle is:  8.75\n"
     ]
    }
   ],
   "source": [
    "'''\n",
    "2. Create a program that calculates the area of a rectangle. Take the length and\n",
    "   width as inputs from the user and store them in variables. Calculate and\n",
    "   display the area.\n",
    "'''\n",
    "print(\" ********Program to calculate area of rectangle*********\")\n",
    "print(\"Enter the length of rectangle: \")\n",
    "length = float(input())\n",
    "print(\"Enter the width of rectangle: \")\n",
    "width = float(input())\n",
    "area = length * width\n",
    "print(\"Area of the rectangle is: \", area)"
   ]
  },
  {
   "cell_type": "code",
   "execution_count": 23,
   "id": "cdca8879",
   "metadata": {},
   "outputs": [
    {
     "name": "stdout",
     "output_type": "stream",
     "text": [
      "*****program to calculate celsius into fahrenheit*****\n",
      "Enter the Celsius: \n",
      "37\n",
      "Fahrenheit:  98.6\n"
     ]
    }
   ],
   "source": [
    "'''\n",
    "3. Write a Python program that converts temperatures from Celsius to\n",
    "   Fahrenheit. Take the temperature in Celsius as input, store it in a variable,\n",
    "   convert it to Fahrenheit, and display the result.\n",
    "'''\n",
    "print(\"*****program to calculate celsius into fahrenheit*****\")\n",
    "print(\"Enter the Celsius: \")\n",
    "celsius =float(input())\n",
    "fahrenheit = celsius*9/5 + 32\n",
    "print(\"Fahrenheit: \", fahrenheit)\n",
    "\n"
   ]
  },
  {
   "cell_type": "code",
   "execution_count": 26,
   "id": "f4169022",
   "metadata": {},
   "outputs": [
    {
     "name": "stdout",
     "output_type": "stream",
     "text": [
      "***** Program to count the length of a string *****\n",
      "Enter the string: \n",
      "hello python\n",
      "Length of the string is:  12\n"
     ]
    }
   ],
   "source": [
    "'''\n",
    "4. Write a Python program that takes a string as input and prints the length of\n",
    "   the string.\n",
    "\n",
    "'''\n",
    "print(\"***** Program to count the length of a string *****\")\n",
    "print(\"Enter the string: \")\n",
    "str1 = input()\n",
    "str_length = len(str1)\n",
    "print(\"Length of the string is: \", str_length)"
   ]
  },
  {
   "cell_type": "code",
   "execution_count": 28,
   "id": "ede8a5a8",
   "metadata": {},
   "outputs": [
    {
     "name": "stdout",
     "output_type": "stream",
     "text": [
      " Enter a sentence: Education\n",
      " Number of vowels in the sentence:  5\n"
     ]
    }
   ],
   "source": [
    "'''\n",
    "5. Create a program that takes a sentence from the user and counts the number\n",
    "   of vowels (a, e, i, o, u) in the string.\n",
    "\n",
    "'''\n",
    "def count_vowels(sentence):\n",
    "    vowels = \"aeiouAEIOU\"\n",
    "    vowel_count = 0\n",
    "    for char in sentence:\n",
    "        if char in vowels:\n",
    "            vowel_count +=1\n",
    "    return vowel_count\n",
    "\n",
    "user_input = input(\" Enter a sentence: \")\n",
    "vowel_count = count_vowels(user_input)\n",
    "print(\" Number of vowels in the sentence: \", vowel_count)"
   ]
  },
  {
   "cell_type": "code",
   "execution_count": 32,
   "id": "a7a1de28",
   "metadata": {},
   "outputs": [
    {
     "name": "stdout",
     "output_type": "stream",
     "text": [
      "Please enter a string: welcome\n",
      "Reverse of a String:  emoclew\n"
     ]
    }
   ],
   "source": [
    "'''\n",
    "6. Given a string, reverse the order of characters using string slicing and\n",
    "   print the reversed string.\n",
    "'''\n",
    "input_string = input(\"Please enter a string: \")\n",
    "reverse_string = input_string[::-1]\n",
    "print(\"Reverse of a String: \", reverse_string)"
   ]
  },
  {
   "cell_type": "code",
   "execution_count": 41,
   "id": "2b70efb9",
   "metadata": {},
   "outputs": [
    {
     "name": "stdout",
     "output_type": "stream",
     "text": [
      "Please enter a string: madam\n",
      "Given string is palindrome:  madam\n"
     ]
    }
   ],
   "source": [
    "'''\n",
    "7. Write a program that takes a string as input and checks if it is a\n",
    "   palindrome (reads the same forwards and backwards).\n",
    "'''\n",
    "input_string1 = input(\"Please enter a string: \")\n",
    "\n",
    "reverse_string1 = input_string1[::-1]\n",
    "if input_string1 == reverse_string1:\n",
    "    print(\"Given string is palindrome: \", reverse_string1)\n",
    "else:\n",
    "    print(\"Given string is not palindrome: \", reverse_string1)\n",
    "\n"
   ]
  },
  {
   "cell_type": "code",
   "execution_count": 43,
   "id": "bfbff376",
   "metadata": {},
   "outputs": [
    {
     "name": "stdout",
     "output_type": "stream",
     "text": [
      "Enter the string: Hello world\n",
      "Modified string:  Helloworld\n"
     ]
    }
   ],
   "source": [
    "'''\n",
    "8. Create a program that takes a string as input and removes all the\n",
    "   spaces from it. Print the modified string without spaces.\n",
    "'''\n",
    "def remove_space(input_string2):\n",
    "    return input_string2.replace(\" \", \"\")\n",
    "\n",
    "# Get string from user.\n",
    "input_string2 = input(\"Enter the string: \")\n",
    "modified_string = remove_space(input_string2)\n",
    "print(\"Modified string: \", modified_string)"
   ]
  },
  {
   "cell_type": "code",
   "execution_count": null,
   "id": "d40b1407",
   "metadata": {},
   "outputs": [],
   "source": []
  }
 ],
 "metadata": {
  "kernelspec": {
   "display_name": "Python 3 (ipykernel)",
   "language": "python",
   "name": "python3"
  },
  "language_info": {
   "codemirror_mode": {
    "name": "ipython",
    "version": 3
   },
   "file_extension": ".py",
   "mimetype": "text/x-python",
   "name": "python",
   "nbconvert_exporter": "python",
   "pygments_lexer": "ipython3",
   "version": "3.11.3"
  }
 },
 "nbformat": 4,
 "nbformat_minor": 5
}
